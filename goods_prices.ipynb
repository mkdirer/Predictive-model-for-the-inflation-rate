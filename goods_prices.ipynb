{
 "cells": [
  {
   "cell_type": "code",
   "execution_count": 2,
   "id": "a8d693a2-7776-4cf6-8f3a-101fa6fce403",
   "metadata": {},
   "outputs": [],
   "source": [
    "import pandas as pd"
   ]
  },
  {
   "cell_type": "code",
   "execution_count": 3,
   "id": "6197ac42-4d67-4dda-84e4-0478ecf2dd61",
   "metadata": {},
   "outputs": [],
   "source": [
    "df = pd.read_csv(\"data/goods_prices.csv\", sep=';', encoding='windows-1250')"
   ]
  },
  {
   "cell_type": "code",
   "execution_count": 4,
   "id": "0f58aec6-c2cb-4881-bf4b-220b428218dc",
   "metadata": {},
   "outputs": [],
   "source": [
    "new_df = df[df['Sposób prezentacji'] == 'Poprzedni miesiąc = 100']"
   ]
  },
  {
   "cell_type": "code",
   "execution_count": 5,
   "id": "9bb2edfc-2076-44ae-ac56-eed84f10efad",
   "metadata": {},
   "outputs": [],
   "source": [
    "new_df = new_df[['Rok', 'Miesiąc', 'Wartość']]"
   ]
  },
  {
   "cell_type": "code",
   "execution_count": 6,
   "id": "595b1e59-2b7c-4bba-be48-e9e5df5eed5e",
   "metadata": {},
   "outputs": [],
   "source": [
    "new_df.dropna(inplace=True)"
   ]
  },
  {
   "cell_type": "code",
   "execution_count": 11,
   "id": "0a123a5a-09b7-4b3f-b94c-bdf1636251cf",
   "metadata": {},
   "outputs": [],
   "source": [
    "new_df = new_df.sort_values(['Rok', 'Miesiąc'], ascending=False)"
   ]
  },
  {
   "cell_type": "code",
   "execution_count": 8,
   "id": "ebec7cb4-074a-4db8-83f8-476883dc7413",
   "metadata": {},
   "outputs": [],
   "source": [
    "new_df.reset_index(drop=True, inplace=True)"
   ]
  },
  {
   "cell_type": "code",
   "execution_count": 12,
   "id": "8071e5b3-3bc8-482c-9aa1-5e7b6a254cec",
   "metadata": {},
   "outputs": [
    {
     "data": {
      "text/html": [
       "<div>\n",
       "<style scoped>\n",
       "    .dataframe tbody tr th:only-of-type {\n",
       "        vertical-align: middle;\n",
       "    }\n",
       "\n",
       "    .dataframe tbody tr th {\n",
       "        vertical-align: top;\n",
       "    }\n",
       "\n",
       "    .dataframe thead th {\n",
       "        text-align: right;\n",
       "    }\n",
       "</style>\n",
       "<table border=\"1\" class=\"dataframe\">\n",
       "  <thead>\n",
       "    <tr style=\"text-align: right;\">\n",
       "      <th></th>\n",
       "      <th>Rok</th>\n",
       "      <th>Miesiąc</th>\n",
       "      <th>Wartość</th>\n",
       "    </tr>\n",
       "  </thead>\n",
       "  <tbody>\n",
       "    <tr>\n",
       "      <th>0</th>\n",
       "      <td>2022</td>\n",
       "      <td>4</td>\n",
       "      <td>102,0</td>\n",
       "    </tr>\n",
       "    <tr>\n",
       "      <th>1</th>\n",
       "      <td>2022</td>\n",
       "      <td>3</td>\n",
       "      <td>103,3</td>\n",
       "    </tr>\n",
       "    <tr>\n",
       "      <th>2</th>\n",
       "      <td>2022</td>\n",
       "      <td>2</td>\n",
       "      <td>99,7</td>\n",
       "    </tr>\n",
       "    <tr>\n",
       "      <th>3</th>\n",
       "      <td>2022</td>\n",
       "      <td>1</td>\n",
       "      <td>101,9</td>\n",
       "    </tr>\n",
       "    <tr>\n",
       "      <th>4</th>\n",
       "      <td>2021</td>\n",
       "      <td>12</td>\n",
       "      <td>100,9</td>\n",
       "    </tr>\n",
       "    <tr>\n",
       "      <th>...</th>\n",
       "      <td>...</td>\n",
       "      <td>...</td>\n",
       "      <td>...</td>\n",
       "    </tr>\n",
       "    <tr>\n",
       "      <th>479</th>\n",
       "      <td>1982</td>\n",
       "      <td>5</td>\n",
       "      <td>102,7</td>\n",
       "    </tr>\n",
       "    <tr>\n",
       "      <th>480</th>\n",
       "      <td>1982</td>\n",
       "      <td>4</td>\n",
       "      <td>103,1</td>\n",
       "    </tr>\n",
       "    <tr>\n",
       "      <th>481</th>\n",
       "      <td>1982</td>\n",
       "      <td>3</td>\n",
       "      <td>105,8</td>\n",
       "    </tr>\n",
       "    <tr>\n",
       "      <th>482</th>\n",
       "      <td>1982</td>\n",
       "      <td>2</td>\n",
       "      <td>136,3</td>\n",
       "    </tr>\n",
       "    <tr>\n",
       "      <th>483</th>\n",
       "      <td>1982</td>\n",
       "      <td>1</td>\n",
       "      <td>106,6</td>\n",
       "    </tr>\n",
       "  </tbody>\n",
       "</table>\n",
       "<p>484 rows × 3 columns</p>\n",
       "</div>"
      ],
      "text/plain": [
       "      Rok  Miesiąc Wartość\n",
       "0    2022        4   102,0\n",
       "1    2022        3   103,3\n",
       "2    2022        2    99,7\n",
       "3    2022        1   101,9\n",
       "4    2021       12   100,9\n",
       "..    ...      ...     ...\n",
       "479  1982        5   102,7\n",
       "480  1982        4   103,1\n",
       "481  1982        3   105,8\n",
       "482  1982        2   136,3\n",
       "483  1982        1   106,6\n",
       "\n",
       "[484 rows x 3 columns]"
      ]
     },
     "execution_count": 12,
     "metadata": {},
     "output_type": "execute_result"
    }
   ],
   "source": [
    "new_df"
   ]
  },
  {
   "cell_type": "code",
   "execution_count": 70,
   "id": "1237fdec-1f04-46d4-99e3-b26c7f131260",
   "metadata": {},
   "outputs": [],
   "source": [
    "new_df['Wartość'] = new_df['Wartość'].str.replace(',', '.').astype(float)"
   ]
  },
  {
   "cell_type": "code",
   "execution_count": 71,
   "id": "f94d8f9b-7cb2-44a1-9dbd-08476fb26743",
   "metadata": {},
   "outputs": [],
   "source": [
    "new_df['Data'] = new_df['Rok'].astype(str) + '.' + new_df['Miesiąc'].astype(str)\n",
    "new_df = new_df.set_index('Data')"
   ]
  },
  {
   "cell_type": "code",
   "execution_count": 72,
   "id": "dae5fafd-8469-4ae1-b9ba-48733312e7f3",
   "metadata": {},
   "outputs": [],
   "source": [
    "new_df.index = pd.to_datetime(new_df.index, format=\"%Y.%m\")"
   ]
  },
  {
   "cell_type": "code",
   "execution_count": 73,
   "id": "e2610888-ec56-4375-b2b9-4ec79fed084f",
   "metadata": {},
   "outputs": [
    {
     "data": {
      "text/html": [
       "<div>\n",
       "<style scoped>\n",
       "    .dataframe tbody tr th:only-of-type {\n",
       "        vertical-align: middle;\n",
       "    }\n",
       "\n",
       "    .dataframe tbody tr th {\n",
       "        vertical-align: top;\n",
       "    }\n",
       "\n",
       "    .dataframe thead th {\n",
       "        text-align: right;\n",
       "    }\n",
       "</style>\n",
       "<table border=\"1\" class=\"dataframe\">\n",
       "  <thead>\n",
       "    <tr style=\"text-align: right;\">\n",
       "      <th></th>\n",
       "      <th>Rok</th>\n",
       "      <th>Miesiąc</th>\n",
       "      <th>Wartość</th>\n",
       "    </tr>\n",
       "    <tr>\n",
       "      <th>Data</th>\n",
       "      <th></th>\n",
       "      <th></th>\n",
       "      <th></th>\n",
       "    </tr>\n",
       "  </thead>\n",
       "  <tbody>\n",
       "    <tr>\n",
       "      <th>2022-04-01</th>\n",
       "      <td>2022</td>\n",
       "      <td>4</td>\n",
       "      <td>102.0</td>\n",
       "    </tr>\n",
       "    <tr>\n",
       "      <th>2022-03-01</th>\n",
       "      <td>2022</td>\n",
       "      <td>3</td>\n",
       "      <td>103.3</td>\n",
       "    </tr>\n",
       "    <tr>\n",
       "      <th>2022-02-01</th>\n",
       "      <td>2022</td>\n",
       "      <td>2</td>\n",
       "      <td>99.7</td>\n",
       "    </tr>\n",
       "    <tr>\n",
       "      <th>2022-01-01</th>\n",
       "      <td>2022</td>\n",
       "      <td>1</td>\n",
       "      <td>101.9</td>\n",
       "    </tr>\n",
       "    <tr>\n",
       "      <th>2021-12-01</th>\n",
       "      <td>2021</td>\n",
       "      <td>12</td>\n",
       "      <td>100.9</td>\n",
       "    </tr>\n",
       "    <tr>\n",
       "      <th>...</th>\n",
       "      <td>...</td>\n",
       "      <td>...</td>\n",
       "      <td>...</td>\n",
       "    </tr>\n",
       "    <tr>\n",
       "      <th>1982-05-01</th>\n",
       "      <td>1982</td>\n",
       "      <td>5</td>\n",
       "      <td>102.7</td>\n",
       "    </tr>\n",
       "    <tr>\n",
       "      <th>1982-04-01</th>\n",
       "      <td>1982</td>\n",
       "      <td>4</td>\n",
       "      <td>103.1</td>\n",
       "    </tr>\n",
       "    <tr>\n",
       "      <th>1982-03-01</th>\n",
       "      <td>1982</td>\n",
       "      <td>3</td>\n",
       "      <td>105.8</td>\n",
       "    </tr>\n",
       "    <tr>\n",
       "      <th>1982-02-01</th>\n",
       "      <td>1982</td>\n",
       "      <td>2</td>\n",
       "      <td>136.3</td>\n",
       "    </tr>\n",
       "    <tr>\n",
       "      <th>1982-01-01</th>\n",
       "      <td>1982</td>\n",
       "      <td>1</td>\n",
       "      <td>106.6</td>\n",
       "    </tr>\n",
       "  </tbody>\n",
       "</table>\n",
       "<p>484 rows × 3 columns</p>\n",
       "</div>"
      ],
      "text/plain": [
       "             Rok  Miesiąc  Wartość\n",
       "Data                              \n",
       "2022-04-01  2022        4    102.0\n",
       "2022-03-01  2022        3    103.3\n",
       "2022-02-01  2022        2     99.7\n",
       "2022-01-01  2022        1    101.9\n",
       "2021-12-01  2021       12    100.9\n",
       "...          ...      ...      ...\n",
       "1982-05-01  1982        5    102.7\n",
       "1982-04-01  1982        4    103.1\n",
       "1982-03-01  1982        3    105.8\n",
       "1982-02-01  1982        2    136.3\n",
       "1982-01-01  1982        1    106.6\n",
       "\n",
       "[484 rows x 3 columns]"
      ]
     },
     "execution_count": 73,
     "metadata": {},
     "output_type": "execute_result"
    }
   ],
   "source": [
    "new_df"
   ]
  },
  {
   "cell_type": "code",
   "execution_count": 74,
   "id": "8bf42a8e-a90b-4aee-87ff-bc5ab24ee2e4",
   "metadata": {},
   "outputs": [],
   "source": [
    "import datetime\n",
    "new_df = new_df[new_df.index > datetime.datetime(1998, 12, 1)]"
   ]
  },
  {
   "cell_type": "code",
   "execution_count": 75,
   "id": "ab6b6daf-604d-4ed0-bd37-d55c06ecfd04",
   "metadata": {},
   "outputs": [
    {
     "data": {
      "text/plain": [
       "Text(0, 0.5, 'Wskaźnik cen')"
      ]
     },
     "execution_count": 75,
     "metadata": {},
     "output_type": "execute_result"
    },
    {
     "data": {
      "image/png": "[encoded data removed]",
      "text/plain": [
       "<Figure size 432x288 with 1 Axes>"
      ]
     },
     "metadata": {
      "needs_background": "light"
     },
     "output_type": "display_data"
    }
   ],
   "source": [
    "import matplotlib.pyplot as plt\n",
    "\n",
    "new_df['Wartość'].plot.line()\n",
    "plt.xlabel('Data')\n",
    "plt.ylabel('Wskaźnik cen')"
   ]
  },
  {
   "cell_type": "code",
   "execution_count": null,
   "id": "b371dc2d-1aed-4860-a991-10b2c6c3f9f8",
   "metadata": {},
   "outputs": [],
   "source": [
    "for i in range(1, 13):\n",
    "    new_df[f'Month - {i}'] = new_df['Wartość'].shift(-i)"
   ]
  },
  {
   "cell_type": "code",
   "execution_count": 77,
   "id": "98b20dce-7a50-4d00-9d3d-a4ea87dc1c17",
   "metadata": {},
   "outputs": [],
   "source": [
    "new_df = new_df.dropna()"
   ]
  },
  {
   "cell_type": "code",
   "execution_count": 78,
   "id": "815c588b-d7d4-4b2a-9cb0-a887aaef326c",
   "metadata": {},
   "outputs": [],
   "source": [
    "X = new_df.loc[:, new_df.columns.str.contains('Month')]"
   ]
  },
  {
   "cell_type": "code",
   "execution_count": 79,
   "id": "88a52f08-9421-4001-9fc9-9dbc8b47f178",
   "metadata": {},
   "outputs": [],
   "source": [
    "y = new_df['Wartość']"
   ]
  },
  {
   "cell_type": "code",
   "execution_count": 80,
   "id": "dff2af3f-1183-4e26-beed-9c9e7152c2eb",
   "metadata": {},
   "outputs": [],
   "source": [
    "mask_train = X.index < datetime.datetime(2020, 1, 1)"
   ]
  },
  {
   "cell_type": "code",
   "execution_count": 81,
   "id": "800b108d-d3a8-42df-b491-27f673948d7c",
   "metadata": {},
   "outputs": [],
   "source": [
    "X_train = X[mask_train]"
   ]
  },
  {
   "cell_type": "code",
   "execution_count": 82,
   "id": "34218a2d-4de8-4ce5-8518-d7bd34c4d057",
   "metadata": {},
   "outputs": [],
   "source": [
    "X_test = X[~mask_train]"
   ]
  },
  {
   "cell_type": "code",
   "execution_count": 83,
   "id": "4356bf71-15bc-4822-9a31-94531ae7bf4a",
   "metadata": {},
   "outputs": [],
   "source": [
    "y_train = y[mask_train]"
   ]
  },
  {
   "cell_type": "code",
   "execution_count": 84,
   "id": "6be4a6f4-b4e2-45fb-95ee-1d3b0110a36a",
   "metadata": {},
   "outputs": [],
   "source": [
    "y_test = y[~mask_train]"
   ]
  },
  {
   "cell_type": "code",
   "execution_count": 85,
   "id": "c86bff0d-9093-4398-b718-f92919458a57",
   "metadata": {},
   "outputs": [],
   "source": [
    "import tensorflow as tf\n",
    "\n",
    "def create_model():\n",
    "    NN_model = tf.keras.Sequential()\n",
    "    NN_model.add(tf.keras.layers.Dense(128, kernel_initializer='normal', activation='relu'))\n",
    "    NN_model.add(tf.keras.layers.Dense(256, kernel_initializer='normal',activation='relu'))\n",
    "    NN_model.add(tf.keras.layers.Dense(256, kernel_initializer='normal',activation='relu'))\n",
    "    NN_model.add(tf.keras.layers.Dense(256, kernel_initializer='normal',activation='relu'))\n",
    "    NN_model.add(tf.keras.layers.Dense(1, kernel_initializer='normal',activation='linear'))\n",
    "    return NN_model"
   ]
  },
  {
   "cell_type": "code",
   "execution_count": 86,
   "id": "7cc9032e-4d6e-4f72-8c55-c943c0d2892b",
   "metadata": {},
   "outputs": [
    {
     "name": "stdout",
     "output_type": "stream",
     "text": [
      "Epoch 1/50\n",
      "8/8 [==============================] - 0s 2ms/step - loss: 6338.9380 - mean_squared_error: 6338.9380\n",
      "Epoch 2/50\n",
      "8/8 [==============================] - 0s 2ms/step - loss: 820.5080 - mean_squared_error: 820.5080\n",
      "Epoch 3/50\n",
      "8/8 [==============================] - 0s 2ms/step - loss: 432.6668 - mean_squared_error: 432.6668\n",
      "Epoch 4/50\n",
      "8/8 [==============================] - 0s 2ms/step - loss: 122.3335 - mean_squared_error: 122.3335\n",
      "Epoch 5/50\n",
      "8/8 [==============================] - 0s 2ms/step - loss: 53.5577 - mean_squared_error: 53.5577\n",
      "Epoch 6/50\n",
      "8/8 [==============================] - 0s 2ms/step - loss: 28.7302 - mean_squared_error: 28.7302\n",
      "Epoch 7/50\n",
      "8/8 [==============================] - 0s 2ms/step - loss: 14.1763 - mean_squared_error: 14.1763\n",
      "Epoch 8/50\n",
      "8/8 [==============================] - 0s 2ms/step - loss: 6.9965 - mean_squared_error: 6.9965\n",
      "Epoch 9/50\n",
      "8/8 [==============================] - 0s 2ms/step - loss: 3.0879 - mean_squared_error: 3.0879\n",
      "Epoch 10/50\n",
      "8/8 [==============================] - 0s 2ms/step - loss: 1.3572 - mean_squared_error: 1.3572\n",
      "Epoch 11/50\n",
      "8/8 [==============================] - 0s 2ms/step - loss: 0.6683 - mean_squared_error: 0.6683\n",
      "Epoch 12/50\n",
      "8/8 [==============================] - 0s 2ms/step - loss: 0.3224 - mean_squared_error: 0.3224\n",
      "Epoch 13/50\n",
      "8/8 [==============================] - 0s 2ms/step - loss: 0.2496 - mean_squared_error: 0.2496\n",
      "Epoch 14/50\n",
      "8/8 [==============================] - 0s 2ms/step - loss: 0.1639 - mean_squared_error: 0.1639\n",
      "Epoch 15/50\n",
      "8/8 [==============================] - 0s 2ms/step - loss: 0.1382 - mean_squared_error: 0.1382\n",
      "Epoch 16/50\n",
      "8/8 [==============================] - 0s 2ms/step - loss: 0.1252 - mean_squared_error: 0.1252\n",
      "Epoch 17/50\n",
      "8/8 [==============================] - 0s 2ms/step - loss: 0.1236 - mean_squared_error: 0.1236\n",
      "Epoch 18/50\n",
      "8/8 [==============================] - 0s 2ms/step - loss: 0.1198 - mean_squared_error: 0.1198\n",
      "Epoch 19/50\n",
      "8/8 [==============================] - 0s 2ms/step - loss: 0.1163 - mean_squared_error: 0.1163\n",
      "Epoch 20/50\n",
      "8/8 [==============================] - 0s 2ms/step - loss: 0.1140 - mean_squared_error: 0.1140\n",
      "Epoch 21/50\n",
      "8/8 [==============================] - 0s 2ms/step - loss: 0.1192 - mean_squared_error: 0.1192\n",
      "Epoch 22/50\n",
      "8/8 [==============================] - 0s 2ms/step - loss: 0.1164 - mean_squared_error: 0.1164\n",
      "Epoch 23/50\n",
      "8/8 [==============================] - 0s 2ms/step - loss: 0.1144 - mean_squared_error: 0.1144\n",
      "Epoch 24/50\n",
      "8/8 [==============================] - 0s 2ms/step - loss: 0.1159 - mean_squared_error: 0.1159\n",
      "Epoch 25/50\n",
      "8/8 [==============================] - 0s 2ms/step - loss: 0.1147 - mean_squared_error: 0.1147\n",
      "Epoch 26/50\n",
      "8/8 [==============================] - 0s 2ms/step - loss: 0.1145 - mean_squared_error: 0.1145\n",
      "Epoch 27/50\n",
      "8/8 [==============================] - 0s 2ms/step - loss: 0.1150 - mean_squared_error: 0.1150\n",
      "Epoch 28/50\n",
      "8/8 [==============================] - 0s 2ms/step - loss: 0.1165 - mean_squared_error: 0.1165\n",
      "Epoch 29/50\n",
      "8/8 [==============================] - 0s 2ms/step - loss: 0.1209 - mean_squared_error: 0.1209\n",
      "Epoch 30/50\n",
      "8/8 [==============================] - 0s 2ms/step - loss: 0.1169 - mean_squared_error: 0.1169\n",
      "Epoch 31/50\n",
      "8/8 [==============================] - 0s 2ms/step - loss: 0.1168 - mean_squared_error: 0.1168\n",
      "Epoch 32/50\n",
      "8/8 [==============================] - 0s 2ms/step - loss: 0.1221 - mean_squared_error: 0.1221\n",
      "Epoch 33/50\n",
      "8/8 [==============================] - 0s 2ms/step - loss: 0.1246 - mean_squared_error: 0.1246\n",
      "Epoch 34/50\n",
      "8/8 [==============================] - 0s 2ms/step - loss: 0.1195 - mean_squared_error: 0.1195\n",
      "Epoch 35/50\n",
      "8/8 [==============================] - 0s 2ms/step - loss: 0.1167 - mean_squared_error: 0.1167\n",
      "Epoch 36/50\n",
      "8/8 [==============================] - 0s 2ms/step - loss: 0.1268 - mean_squared_error: 0.1268\n",
      "Epoch 37/50\n",
      "8/8 [==============================] - 0s 2ms/step - loss: 0.1216 - mean_squared_error: 0.1216\n",
      "Epoch 38/50\n",
      "8/8 [==============================] - 0s 2ms/step - loss: 0.1155 - mean_squared_error: 0.1155\n",
      "Epoch 39/50\n",
      "8/8 [==============================] - 0s 2ms/step - loss: 0.1163 - mean_squared_error: 0.1163\n",
      "Epoch 40/50\n",
      "8/8 [==============================] - 0s 2ms/step - loss: 0.1156 - mean_squared_error: 0.1156\n",
      "Epoch 41/50\n",
      "8/8 [==============================] - 0s 2ms/step - loss: 0.1205 - mean_squared_error: 0.1205\n",
      "Epoch 42/50\n",
      "8/8 [==============================] - 0s 2ms/step - loss: 0.1192 - mean_squared_error: 0.1192\n",
      "Epoch 43/50\n",
      "8/8 [==============================] - 0s 2ms/step - loss: 0.1226 - mean_squared_error: 0.1226\n",
      "Epoch 44/50\n",
      "8/8 [==============================] - 0s 2ms/step - loss: 0.1151 - mean_squared_error: 0.1151\n",
      "Epoch 45/50\n",
      "8/8 [==============================] - 0s 2ms/step - loss: 0.1244 - mean_squared_error: 0.1244\n",
      "Epoch 46/50\n",
      "8/8 [==============================] - 0s 2ms/step - loss: 0.1189 - mean_squared_error: 0.1189\n",
      "Epoch 47/50\n",
      "8/8 [==============================] - 0s 2ms/step - loss: 0.1149 - mean_squared_error: 0.1149\n",
      "Epoch 48/50\n",
      "8/8 [==============================] - 0s 2ms/step - loss: 0.1192 - mean_squared_error: 0.1192\n",
      "Epoch 49/50\n",
      "8/8 [==============================] - 0s 2ms/step - loss: 0.1219 - mean_squared_error: 0.1219\n",
      "Epoch 50/50\n",
      "8/8 [==============================] - 0s 2ms/step - loss: 0.1175 - mean_squared_error: 0.1175\n"
     ]
    }
   ],
   "source": [
    "model = create_model()\n",
    "model.compile(optimizer='adam', loss='mse', metrics=[tf.keras.metrics.MeanSquaredError()])\n",
    "history = model.fit(X_train, y_train, epochs = 50, batch_size = 32)"
   ]
  },
  {
   "cell_type": "code",
   "execution_count": 87,
   "id": "8ebc406b-efaa-43b4-b2bf-e813a9bab922",
   "metadata": {},
   "outputs": [
    {
     "name": "stdout",
     "output_type": "stream",
     "text": [
      "1/1 [==============================] - 0s 53ms/step\n"
     ]
    }
   ],
   "source": [
    "y_pred = model.predict(X_test)"
   ]
  },
  {
   "cell_type": "code",
   "execution_count": 88,
   "id": "eac419e7-6a75-4282-a991-f36057c884c1",
   "metadata": {},
   "outputs": [
    {
     "data": {
      "text/plain": [
       "<matplotlib.legend.Legend at 0x18d507859c0>"
      ]
     },
     "execution_count": 88,
     "metadata": {},
     "output_type": "execute_result"
    },
    {
     "data": {
      "image/png": "[encoded data removed]",
      "text/plain": [
       "<Figure size 432x288 with 1 Axes>"
      ]
     },
     "metadata": {
      "needs_background": "light"
     },
     "output_type": "display_data"
    }
   ],
   "source": [
    "plt.plot(X_test.index, y_pred, label='Predictions')\n",
    "plt.plot(X_test.index, y_test, label='Test')\n",
    "plt.legend()\n",
    "# plt.legend(['Predictions', 'Test'])"
   ]
  },
  {
   "cell_type": "code",
   "execution_count": 89,
   "id": "338ec879-a93b-42df-a71b-eee1f4f9904f",
   "metadata": {},
   "outputs": [
    {
     "data": {
      "text/plain": [
       "<matplotlib.legend.Legend at 0x18d52876290>"
      ]
     },
     "execution_count": 89,
     "metadata": {},
     "output_type": "execute_result"
    },
    {
     "data": {
      "image/png": "[encoded data removed]",
      "text/plain": [
       "<Figure size 432x288 with 1 Axes>"
      ]
     },
     "metadata": {
      "needs_background": "light"
     },
     "output_type": "display_data"
    }
   ],
   "source": [
    "from sklearn.linear_model import LinearRegression\n",
    "model_l = LinearRegression()\n",
    "model_l.fit(X_train, y_train)\n",
    "pred_l = model_l.predict(X_test)\n",
    "plt.plot(X_test.index, pred_l, label='Predictions')\n",
    "plt.plot(X_test.index, y_test, label='Test')\n",
    "plt.legend()"
   ]
  },
  {
   "cell_type": "code",
   "execution_count": 90,
   "id": "f48e6254-4556-4271-8e29-841a1a4952bd",
   "metadata": {},
   "outputs": [
    {
     "data": {
      "text/plain": [
       "<matplotlib.legend.Legend at 0x18d52934f10>"
      ]
     },
     "execution_count": 90,
     "metadata": {},
     "output_type": "execute_result"
    },
    {
     "data": {
      "image/png": "[encoded data removed]",
      "text/plain": [
       "<Figure size 432x288 with 1 Axes>"
      ]
     },
     "metadata": {
      "needs_background": "light"
     },
     "output_type": "display_data"
    }
   ],
   "source": [
    "from sklearn.svm import SVR\n",
    "model_s = SVR(C=1.0)\n",
    "model_s.fit(X_train, y_train)\n",
    "pred_s = model_s.predict(X_test)\n",
    "plt.plot(X_test.index, pred_s, label='Predictions')\n",
    "plt.plot(X_test.index, y_test, label='Test')\n",
    "plt.legend()"
   ]
  },
  {
   "cell_type": "code",
   "execution_count": 91,
   "id": "78564b11-40c2-454d-9ed7-90da3e963c73",
   "metadata": {},
   "outputs": [],
   "source": [
    "import pickle\n",
    "from keras.models import save_model\n",
    "\n",
    "filename = 'linear_regression.sav'\n",
    "pickle.dump(model_l, open(filename, 'wb'))\n",
    "\n",
    "filename = 'support_vector.sav'\n",
    "pickle.dump(model_s, open(filename, 'wb'))\n",
    "\n",
    "model.save_weights('deep_learning.h5')"
   ]
  }
 ],
 "metadata": {
  "kernelspec": {
   "display_name": "Python 3.10.0 64-bit",
   "language": "python",
   "name": "python3"
  },
  "language_info": {
   "codemirror_mode": {
    "name": "ipython",
    "version": 3
   },
   "file_extension": ".py",
   "mimetype": "text/x-python",
   "name": "python",
   "nbconvert_exporter": "python",
   "pygments_lexer": "ipython3",
   "version": "3.10.0"
  },
  "vscode": {
   "interpreter": {
    "hash": "26de051ba29f2982a8de78e945f0abaf191376122a1563185a90213a26c5da77"
   }
  }
 },
 "nbformat": 4,
 "nbformat_minor": 5
}
